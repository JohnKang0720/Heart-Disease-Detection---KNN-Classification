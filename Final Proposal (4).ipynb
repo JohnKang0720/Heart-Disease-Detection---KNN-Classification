{
 "cells": [
  {
   "cell_type": "markdown",
   "id": "8e9807b5-76ab-4237-b7b4-49bb1817d481",
   "metadata": {},
   "source": [
    "***Must download the following libraries to run the code***"
   ]
  },
  {
   "cell_type": "code",
   "execution_count": 1,
   "id": "4edebeeb-899c-4320-ba77-2436c43b6566",
   "metadata": {},
   "outputs": [
    {
     "name": "stderr",
     "output_type": "stream",
     "text": [
      "── \u001b[1mAttaching packages\u001b[22m ─────────────────────────────────────── tidyverse 1.3.1 ──\n",
      "\n",
      "\u001b[32m✔\u001b[39m \u001b[34mggplot2\u001b[39m 3.3.6     \u001b[32m✔\u001b[39m \u001b[34mpurrr  \u001b[39m 0.3.4\n",
      "\u001b[32m✔\u001b[39m \u001b[34mtibble \u001b[39m 3.1.7     \u001b[32m✔\u001b[39m \u001b[34mdplyr  \u001b[39m 1.0.9\n",
      "\u001b[32m✔\u001b[39m \u001b[34mtidyr  \u001b[39m 1.2.0     \u001b[32m✔\u001b[39m \u001b[34mstringr\u001b[39m 1.4.0\n",
      "\u001b[32m✔\u001b[39m \u001b[34mreadr  \u001b[39m 2.1.2     \u001b[32m✔\u001b[39m \u001b[34mforcats\u001b[39m 0.5.1\n",
      "\n",
      "── \u001b[1mConflicts\u001b[22m ────────────────────────────────────────── tidyverse_conflicts() ──\n",
      "\u001b[31m✖\u001b[39m \u001b[34mdplyr\u001b[39m::\u001b[32mfilter()\u001b[39m masks \u001b[34mstats\u001b[39m::filter()\n",
      "\u001b[31m✖\u001b[39m \u001b[34mdplyr\u001b[39m::\u001b[32mlag()\u001b[39m    masks \u001b[34mstats\u001b[39m::lag()\n",
      "\n",
      "── \u001b[1mAttaching packages\u001b[22m ────────────────────────────────────── tidymodels 1.0.0 ──\n",
      "\n",
      "\u001b[32m✔\u001b[39m \u001b[34mbroom       \u001b[39m 1.0.0     \u001b[32m✔\u001b[39m \u001b[34mrsample     \u001b[39m 1.0.0\n",
      "\u001b[32m✔\u001b[39m \u001b[34mdials       \u001b[39m 1.0.0     \u001b[32m✔\u001b[39m \u001b[34mtune        \u001b[39m 1.0.0\n",
      "\u001b[32m✔\u001b[39m \u001b[34minfer       \u001b[39m 1.0.2     \u001b[32m✔\u001b[39m \u001b[34mworkflows   \u001b[39m 1.0.0\n",
      "\u001b[32m✔\u001b[39m \u001b[34mmodeldata   \u001b[39m 1.0.0     \u001b[32m✔\u001b[39m \u001b[34mworkflowsets\u001b[39m 1.0.0\n",
      "\u001b[32m✔\u001b[39m \u001b[34mparsnip     \u001b[39m 1.0.0     \u001b[32m✔\u001b[39m \u001b[34myardstick   \u001b[39m 1.0.0\n",
      "\u001b[32m✔\u001b[39m \u001b[34mrecipes     \u001b[39m 1.0.1     \n",
      "\n",
      "── \u001b[1mConflicts\u001b[22m ───────────────────────────────────────── tidymodels_conflicts() ──\n",
      "\u001b[31m✖\u001b[39m \u001b[34mscales\u001b[39m::\u001b[32mdiscard()\u001b[39m masks \u001b[34mpurrr\u001b[39m::discard()\n",
      "\u001b[31m✖\u001b[39m \u001b[34mdplyr\u001b[39m::\u001b[32mfilter()\u001b[39m   masks \u001b[34mstats\u001b[39m::filter()\n",
      "\u001b[31m✖\u001b[39m \u001b[34mrecipes\u001b[39m::\u001b[32mfixed()\u001b[39m  masks \u001b[34mstringr\u001b[39m::fixed()\n",
      "\u001b[31m✖\u001b[39m \u001b[34mdplyr\u001b[39m::\u001b[32mlag()\u001b[39m      masks \u001b[34mstats\u001b[39m::lag()\n",
      "\u001b[31m✖\u001b[39m \u001b[34myardstick\u001b[39m::\u001b[32mspec()\u001b[39m masks \u001b[34mreadr\u001b[39m::spec()\n",
      "\u001b[31m✖\u001b[39m \u001b[34mrecipes\u001b[39m::\u001b[32mstep()\u001b[39m   masks \u001b[34mstats\u001b[39m::step()\n",
      "\u001b[34m•\u001b[39m Dig deeper into tidy modeling with R at \u001b[32mhttps://www.tmwr.org\u001b[39m\n",
      "\n"
     ]
    }
   ],
   "source": [
    "library(repr)\n",
    "library(tidyverse)\n",
    "library(tidymodels)"
   ]
  },
  {
   "cell_type": "markdown",
   "id": "35e658c5-9714-4bb8-bc3d-f24feaf72023",
   "metadata": {},
   "source": [
    "**Title:** \n",
    "\n",
    "Does age and cholesterol level contribute to the increased risk of heart disease diagnosis?"
   ]
  },
  {
   "cell_type": "markdown",
   "id": "fd7a52da-ff75-4a5b-9326-7a2cd0afbcde",
   "metadata": {},
   "source": [
    "**Introduction:**\n",
    "\n",
    "This is a collaborative data science project that specifically focuses on answering a predictive question of our choice on the dataset. Starting from reading and tidying the data, we are required to visualize and classify the variables to answer the question.\n",
    "We decided to use the Heart Disease dataset which consists of statistics on the physical attributes of Cleveland patients such as their age, sex, smoking habits, cholestral level, exercise level and finally the indication of heart disease diagnosis, collected from US hospitals. Our group decided to use the K-nearest-neighbors classification to predict if higher cholestral level and age contributes to the likelihood of heart disease diagnosis."
   ]
  },
  {
   "cell_type": "markdown",
   "id": "49dd8da4-6038-4238-81b1-a30c0075a7d7",
   "metadata": {},
   "source": [
    "**Preliminary Data Analysis**"
   ]
  },
  {
   "cell_type": "code",
   "execution_count": 2,
   "id": "6c4b2c9a-3888-44c8-9f9a-86adeebb145a",
   "metadata": {},
   "outputs": [
    {
     "ename": "ERROR",
     "evalue": "Error in read_csv(url): could not find function \"read_csv\"\n",
     "output_type": "error",
     "traceback": [
      "Error in read_csv(url): could not find function \"read_csv\"\nTraceback:\n"
     ]
    }
   ],
   "source": [
    "#Preliminary exploratory data analysis\n",
    "\n",
    "\n",
    "#reading data from the web\n",
    "url <- \"https://archive.ics.uci.edu/ml/machine-learning-databases/heart-disease/processed.cleveland.data\"\n",
    "heart_data <- read_csv(url)\n",
    "\n",
    "#tidying data\n",
    "\n",
    "#adding column names\n",
    "colnames(heart_data) <- c(\"age\", \"sex\", \"cp\", \"rbp\", \"chol\", \"fbs\", \"restecg\", \"thalach\", \"exang\", \"oldpeak\", \"slope\", \"ca\", \"thal\", \"num\")\n",
    "\n",
    "#mutating the data to make categorical variables\n",
    "heart_data_tidy_1 <- heart_data |>\n",
    "                        select(age, sex, chol, num, thalach) |>\n",
    "                        mutate(num = as_factor(num)) |>\n",
    "                        mutate(num = as_factor(sex)) |>\n",
    "                        arrange(desc(chol))\n",
    "\n",
    "\n",
    "#reorganizing observations to make it readable\n",
    "organized_heart_data <- heart_data_tidy_1 |> mutate(num = recode(num, '4' = '1')) |>\n",
    "                        mutate(num = recode(num, '3' = '1')) |>\n",
    "                        mutate(num = recode(num, '2' = '1')) \n",
    "organized_heart_data\n",
    "\n",
    "#group and summarizing data\n",
    "\n",
    "#example of how we will split data\n",
    "heart_data_split <- initial_split(organized_heart_data, prop = 0.75, strata = num)\n",
    "heart_data_train <- training(heart_data_split) #we will use this for summarizing\n",
    "heart_data_test <- testing(heart_data_split)\n",
    "\n",
    "#summarizing data\n",
    "#1 how many patients have heart disease depending on age\n",
    "heart_data_summarize <- heart_data_train |>\n",
    "                        group_by(age) |>\n",
    "                        summarize(total_diagnosis = n())\n",
    "                    \n",
    "heart_data_summarize\n",
    "#2 average age across patients\n",
    "heart_data_summarize_2 <- heart_data_train |>\n",
    "                        group_by(sex) |>\n",
    "                        summarize(average_age = mean(age, na.rm = TRUE))\n",
    "\n",
    "heart_data_summarize_2\n",
    "\n",
    "#3 max cholestral level across patients\n",
    "heart_data_summarize_3 <- heart_data_train |>\n",
    "                        select(chol) |>\n",
    "                        map_df(max, na.rm = TRUE)\n",
    "\n",
    "heart_data_summarize_3             \n",
    "\n",
    "#plotting data\n",
    "\n",
    "#scatterplot of age vs height\n",
    "options(repr.plot.width = 8, repr.plot.height = 8) \n",
    "heart_plot_1 <- ggplot(organized_heart_data, aes(x = age, y = chol, color = num)) +\n",
    "                geom_point() +\n",
    "                labs(x = \"Age\", y = \"Cholestral level (mg/dl)\", color = \"Heart Disease?\") + \n",
    "                 ggtitle(\"Age vs Cholestral relationship to Heart Disease\") +\n",
    "                theme(text = element_text(size=20)) \n",
    "\n",
    "heart_plot_1"
   ]
  },
  {
   "cell_type": "markdown",
   "id": "07f5e09e-6bf5-4d0e-a49a-e78821567bf9",
   "metadata": {},
   "source": [
    "**Methods:**\n",
    "\n",
    "For this predictive question, we will select the columns chol, age and num and mutate into categorical variables to determine if the increase of cholesterol and age heightens the heart disease risk. We begin the preprocessing by splitting the data into training and testing sets according to the proportion of the dataset and creating a recipe that sets heart disease indication as the class and finally use ```step()```  to standardize the data. Moreover, we are using 5-fold cross-validation to ensure our parameter won’t depend on the inconsistent data when deciding K-value. Next, we will create a workflow and use ```tune_grid()``` to pass in the cross-validated sample and the grid parameter so that it generates K values that are balanced in cost and accuracy. Here, we can ```collect_metrics()``` and filter the “accuracy” column from the training variable to ensure we have used the most effective k-value. Lastly, we can predict the class by inputting tibble containing both high and low cholesterol and age values to compare which produces higher risk in heart disease. For this classification, we decided to present the relationship between age and serum cholesterol level in a ***scatterplot***. Scatterplot allows us to determine the relationship of 2 numerical quantities, while it is also the most effective for viewing distances of neighbors. We will plot the standardized values and add color aesthetics to distinguish heart disease indications to see if the unknown class has heart disease."
   ]
  },
  {
   "cell_type": "markdown",
   "id": "3160a5a3-b297-416e-91f8-1c6f2705c9a2",
   "metadata": {},
   "source": [
    "**Expected outcomes and significance:**\n",
    "\n",
    "Through our classifier, we expect to find a positive correlation between the cholesterol level and heart disease diagnosis. Scientifically, human organ performance declines over time and the increasing cholesterol level prevents oxygen delivery. Thus, when the value of the predictors increase, we expect to find the neighbors to indicate heart disease. Discovering that age and cholesterol level contributes to the likeliness of heart disease through this classification alarms audiences about the risk once again. It could also propose new scientific study ideas related to the predictors, having a positive impact towards the medical field. Some further questions could be whether or not the increase in exercise level directly decreases heart disease risk. There can also be medical-related questions as to how biologically aging affects our body organs to create heart disease."
   ]
  }
 ],
 "metadata": {
  "kernelspec": {
   "display_name": "R",
   "language": "R",
   "name": "ir"
  },
  "language_info": {
   "codemirror_mode": "r",
   "file_extension": ".r",
   "mimetype": "text/x-r-source",
   "name": "R",
   "pygments_lexer": "r",
   "version": "4.1.3"
  }
 },
 "nbformat": 4,
 "nbformat_minor": 5
}
